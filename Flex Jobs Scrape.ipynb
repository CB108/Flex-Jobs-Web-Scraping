{
 "cells": [
  {
   "cell_type": "markdown",
   "metadata": {},
   "source": [
    "# This analysis was intended to help me use my time and energy wisely during my job search"
   ]
  },
  {
   "cell_type": "markdown",
   "metadata": {},
   "source": [
    "## The two main question I wanted to answer were as follows  \n",
    "### 1) Which hard-skills were listed most frequently in the job-postings?\n",
    "### 2) Which key words came up most frequently in the descriptions?"
   ]
  },
  {
   "cell_type": "markdown",
   "metadata": {},
   "source": [
    "# These questions (and others) are answered below the Scraping and Prep sections "
   ]
  },
  {
   "cell_type": "markdown",
   "metadata": {},
   "source": [
    "## This data was sources from Flexjobs.com and is based on the search criteria 'Data Analyst' and 'Remote'"
   ]
  },
  {
   "cell_type": "code",
   "execution_count": 1,
   "metadata": {},
   "outputs": [],
   "source": [
    "#Some basic libraries\n",
    "\n",
    "import numpy as np\n",
    "import pandas as pd\n",
    "import gc\n",
    "import math\n",
    "import re\n",
    "import datetime\n",
    "from dateutil.parser import parse\n",
    "\n",
    "#Web scraping imports \n",
    "\n",
    "import requests\n",
    "from bs4 import BeautifulSoup as bs\n",
    "\n",
    "# For Viz\n",
    "\n",
    "import matplotlib\n",
    "import matplotlib.pyplot as plt\n",
    "import seaborn as sns"
   ]
  },
  {
   "cell_type": "markdown",
   "metadata": {},
   "source": [
    "# WEB SCRAPING "
   ]
  },
  {
   "cell_type": "code",
   "execution_count": 2,
   "metadata": {},
   "outputs": [],
   "source": [
    "# # Load in the webpage \n",
    "\n",
    "# page = 1\n",
    "# r = requests.get(f\"https://www.flexjobs.com/search?location=Remote&page={page}&search=Data+Analyst \")\n",
    "\n",
    "# # Convert to a Beautiful Soup Object \n",
    "\n",
    "# soup = bs(r.content)\n",
    "\n",
    "# # Create Variable for just the body\n",
    "\n",
    "# body = soup.body"
   ]
  },
  {
   "cell_type": "markdown",
   "metadata": {},
   "source": [
    "#### Format is this one below where the 2 is , thats the page number \n",
    "\n",
    "https://www.flexjobs.com/search?location=Remote&page=2&search=Data+Analyst \n",
    "\n",
    "https://www.flexjobs.com/search?search=&search=Data+Analyst&location=remote"
   ]
  },
  {
   "cell_type": "code",
   "execution_count": 3,
   "metadata": {},
   "outputs": [],
   "source": [
    "# testing = requests.get(f\"https://www.flexjobs.com/search?location=Remote&page=1&search=Data+Analyst \")\n",
    "# soup = bs(testing.content)\n",
    "# body = soup.body\n",
    "# job_box = body.find('li', class_ = 'list-group-item job')\n",
    "\n",
    "# #print(job_box)"
   ]
  },
  {
   "cell_type": "markdown",
   "metadata": {},
   "source": [
    "### Grabbing the right info and turing it into a DF"
   ]
  },
  {
   "cell_type": "code",
   "execution_count": 4,
   "metadata": {},
   "outputs": [],
   "source": [
    "# def git_er_done (x,y):\n",
    "    \n",
    "#     total_dt = {}\n",
    "\n",
    "#     for i in range(x,y):\n",
    "\n",
    "#         flex_dt = {}\n",
    "#         testing = requests.get(f\"https://www.flexjobs.com/search?location=Remote&page={i}&search=Data+Analyst \")\n",
    "#         soup = bs(testing.content)\n",
    "#         body = soup.body\n",
    "#         job_box = body.find_all('li', class_ = re.compile('^list-group-item job')) # change to find_all when ready \n",
    "\n",
    "#         for index, post in enumerate(job_box):\n",
    "\n",
    "#             flex_dt[(i-1)*50+index] = [post.find('div', class_= \"col-10 jt-title\").text.replace('\\n', '').rstrip(), \n",
    "#                             post.find('div', class_= \"col-2 text-muted text-center\").text.replace('\\n', '').rstrip(), \n",
    "#                             post.find('span', class_= \"text-danger\").text.replace('\\n', '').rstrip(), \n",
    "#                             post.find('div', class_= \"row job-details\").text.replace('\\n', '').rstrip()]\n",
    "\n",
    "#         total_dt.update(flex_dt)\n",
    "        \n",
    "#     df_flex = pd.DataFrame(total_dt).T\n",
    "    \n",
    "#     return df_flex\n",
    "\n",
    "# #flex_run_6 = git_er_done(39,40) --- BLANKED OUT SO NO ACCIDNTAL RUNNING "
   ]
  },
  {
   "cell_type": "code",
   "execution_count": 5,
   "metadata": {},
   "outputs": [],
   "source": [
    "# YOU HAVE THESE NOW \n",
    "\n",
    "# flex_run_1 is page 1 and 2 \n",
    "# flex_run_2 is page 3,4,5,6\n",
    "# flex_run_3 is pages 7 - 16 should be 500 records \n",
    "# flex_run_4 is pages 17 - 26 should be 500 records \n",
    "# flex_run_5 is pages 27 - 38 should be 600 records\n",
    "# flex_run_6 picks up the remaining 29 records "
   ]
  },
  {
   "cell_type": "markdown",
   "metadata": {},
   "source": [
    "### EXPORTING to excel "
   ]
  },
  {
   "cell_type": "code",
   "execution_count": 6,
   "metadata": {},
   "outputs": [],
   "source": [
    "#final2_flex_df = pd.concat([flex_run_1, flex_run_2, flex_run_3, flex_run_4, flex_run_5, flex_run_6], axis=0)"
   ]
  },
  {
   "cell_type": "code",
   "execution_count": 7,
   "metadata": {},
   "outputs": [],
   "source": [
    "#final2_flex_df.columns = ('Job Title', 'Date Posted', 'Type', 'Quals')"
   ]
  },
  {
   "cell_type": "code",
   "execution_count": 8,
   "metadata": {},
   "outputs": [],
   "source": [
    "#final2_flex_df.to_excel('flex_jobs_remote.xlsx')"
   ]
  },
  {
   "cell_type": "markdown",
   "metadata": {},
   "source": [
    "# DATA PREP"
   ]
  },
  {
   "cell_type": "code",
   "execution_count": 9,
   "metadata": {},
   "outputs": [],
   "source": [
    "# READ_IN the Excel DF \n",
    "\n",
    "final2_flex_df = pd.read_excel('flex_jobs_remote.xlsx')"
   ]
  },
  {
   "cell_type": "code",
   "execution_count": 10,
   "metadata": {},
   "outputs": [
    {
     "name": "stdout",
     "output_type": "stream",
     "text": [
      "<class 'pandas.core.frame.DataFrame'>\n",
      "RangeIndex: 1930 entries, 0 to 1929\n",
      "Data columns (total 5 columns):\n",
      " #   Column       Non-Null Count  Dtype \n",
      "---  ------       --------------  ----- \n",
      " 0   Unnamed: 0   1930 non-null   int64 \n",
      " 1   Job Title    1930 non-null   object\n",
      " 2   Date Posted  1930 non-null   object\n",
      " 3   Type         1930 non-null   object\n",
      " 4   Quals        1930 non-null   object\n",
      "dtypes: int64(1), object(4)\n",
      "memory usage: 75.5+ KB\n"
     ]
    }
   ],
   "source": [
    "final2_flex_df.info()"
   ]
  },
  {
   "cell_type": "code",
   "execution_count": 11,
   "metadata": {},
   "outputs": [
    {
     "data": {
      "text/plain": [
       "(1930, 5)"
      ]
     },
     "execution_count": 11,
     "metadata": {},
     "output_type": "execute_result"
    }
   ],
   "source": [
    "final2_flex_df.shape"
   ]
  },
  {
   "cell_type": "code",
   "execution_count": 12,
   "metadata": {},
   "outputs": [
    {
     "data": {
      "text/html": [
       "<div>\n",
       "<style scoped>\n",
       "    .dataframe tbody tr th:only-of-type {\n",
       "        vertical-align: middle;\n",
       "    }\n",
       "\n",
       "    .dataframe tbody tr th {\n",
       "        vertical-align: top;\n",
       "    }\n",
       "\n",
       "    .dataframe thead th {\n",
       "        text-align: right;\n",
       "    }\n",
       "</style>\n",
       "<table border=\"1\" class=\"dataframe\">\n",
       "  <thead>\n",
       "    <tr style=\"text-align: right;\">\n",
       "      <th></th>\n",
       "      <th>Unnamed: 0</th>\n",
       "      <th>Job Title</th>\n",
       "      <th>Date Posted</th>\n",
       "      <th>Type</th>\n",
       "      <th>Quals</th>\n",
       "    </tr>\n",
       "  </thead>\n",
       "  <tbody>\n",
       "    <tr>\n",
       "      <th>0</th>\n",
       "      <td>0</td>\n",
       "      <td>Data Entry Analyst</td>\n",
       "      <td>Feb 26</td>\n",
       "      <td>Freelance Job</td>\n",
       "      <td>Data entry analyst needed for a contract posit...</td>\n",
       "    </tr>\n",
       "    <tr>\n",
       "      <th>1</th>\n",
       "      <td>1</td>\n",
       "      <td>Data Entry Analyst</td>\n",
       "      <td>Mar 06</td>\n",
       "      <td>Full-Time, 100% Remote Job</td>\n",
       "      <td>Seeking a data entry analyst...</td>\n",
       "    </tr>\n",
       "    <tr>\n",
       "      <th>2</th>\n",
       "      <td>2</td>\n",
       "      <td>Data Analyst</td>\n",
       "      <td>Mar 03</td>\n",
       "      <td>Part-Time, 100% Remote Job</td>\n",
       "      <td>Part-time, remote contract r...</td>\n",
       "    </tr>\n",
       "    <tr>\n",
       "      <th>3</th>\n",
       "      <td>3</td>\n",
       "      <td>Data Analyst</td>\n",
       "      <td>Feb 09</td>\n",
       "      <td>100% Remote Job</td>\n",
       "      <td>Remote contract position for...</td>\n",
       "    </tr>\n",
       "    <tr>\n",
       "      <th>4</th>\n",
       "      <td>4</td>\n",
       "      <td>Data Analyst</td>\n",
       "      <td>Jan 20</td>\n",
       "      <td>Full-Time, Option for Remote Job</td>\n",
       "      <td>Candidate will manage databa...</td>\n",
       "    </tr>\n",
       "  </tbody>\n",
       "</table>\n",
       "</div>"
      ],
      "text/plain": [
       "   Unnamed: 0           Job Title Date Posted  \\\n",
       "0           0  Data Entry Analyst      Feb 26   \n",
       "1           1  Data Entry Analyst      Mar 06   \n",
       "2           2        Data Analyst      Mar 03   \n",
       "3           3        Data Analyst      Feb 09   \n",
       "4           4        Data Analyst      Jan 20   \n",
       "\n",
       "                               Type  \\\n",
       "0                     Freelance Job   \n",
       "1        Full-Time, 100% Remote Job   \n",
       "2        Part-Time, 100% Remote Job   \n",
       "3                   100% Remote Job   \n",
       "4  Full-Time, Option for Remote Job   \n",
       "\n",
       "                                               Quals  \n",
       "0  Data entry analyst needed for a contract posit...  \n",
       "1                    Seeking a data entry analyst...  \n",
       "2                    Part-time, remote contract r...  \n",
       "3                    Remote contract position for...  \n",
       "4                    Candidate will manage databa...  "
      ]
     },
     "execution_count": 12,
     "metadata": {},
     "output_type": "execute_result"
    }
   ],
   "source": [
    "final2_flex_df.head()"
   ]
  },
  {
   "cell_type": "markdown",
   "metadata": {},
   "source": [
    "## Create a column for Month / Day "
   ]
  },
  {
   "cell_type": "code",
   "execution_count": 13,
   "metadata": {},
   "outputs": [
    {
     "data": {
      "text/html": [
       "<div>\n",
       "<style scoped>\n",
       "    .dataframe tbody tr th:only-of-type {\n",
       "        vertical-align: middle;\n",
       "    }\n",
       "\n",
       "    .dataframe tbody tr th {\n",
       "        vertical-align: top;\n",
       "    }\n",
       "\n",
       "    .dataframe thead th {\n",
       "        text-align: right;\n",
       "    }\n",
       "</style>\n",
       "<table border=\"1\" class=\"dataframe\">\n",
       "  <thead>\n",
       "    <tr style=\"text-align: right;\">\n",
       "      <th></th>\n",
       "      <th>Job Title</th>\n",
       "      <th>Type</th>\n",
       "      <th>Quals</th>\n",
       "      <th>Post Month</th>\n",
       "      <th>Post Day</th>\n",
       "    </tr>\n",
       "  </thead>\n",
       "  <tbody>\n",
       "    <tr>\n",
       "      <th>0</th>\n",
       "      <td>Data Entry Analyst</td>\n",
       "      <td>Freelance Job</td>\n",
       "      <td>Data entry analyst needed for a contract posit...</td>\n",
       "      <td>Feb</td>\n",
       "      <td>26</td>\n",
       "    </tr>\n",
       "    <tr>\n",
       "      <th>1</th>\n",
       "      <td>Data Entry Analyst</td>\n",
       "      <td>Full-Time, 100% Remote Job</td>\n",
       "      <td>Seeking a data entry analyst...</td>\n",
       "      <td>Mar</td>\n",
       "      <td>06</td>\n",
       "    </tr>\n",
       "    <tr>\n",
       "      <th>2</th>\n",
       "      <td>Data Analyst</td>\n",
       "      <td>Part-Time, 100% Remote Job</td>\n",
       "      <td>Part-time, remote contract r...</td>\n",
       "      <td>Mar</td>\n",
       "      <td>03</td>\n",
       "    </tr>\n",
       "    <tr>\n",
       "      <th>3</th>\n",
       "      <td>Data Analyst</td>\n",
       "      <td>100% Remote Job</td>\n",
       "      <td>Remote contract position for...</td>\n",
       "      <td>Feb</td>\n",
       "      <td>09</td>\n",
       "    </tr>\n",
       "    <tr>\n",
       "      <th>4</th>\n",
       "      <td>Data Analyst</td>\n",
       "      <td>Full-Time, Option for Remote Job</td>\n",
       "      <td>Candidate will manage databa...</td>\n",
       "      <td>Jan</td>\n",
       "      <td>20</td>\n",
       "    </tr>\n",
       "  </tbody>\n",
       "</table>\n",
       "</div>"
      ],
      "text/plain": [
       "            Job Title                              Type  \\\n",
       "0  Data Entry Analyst                     Freelance Job   \n",
       "1  Data Entry Analyst        Full-Time, 100% Remote Job   \n",
       "2        Data Analyst        Part-Time, 100% Remote Job   \n",
       "3        Data Analyst                   100% Remote Job   \n",
       "4        Data Analyst  Full-Time, Option for Remote Job   \n",
       "\n",
       "                                               Quals Post Month Post Day  \n",
       "0  Data entry analyst needed for a contract posit...        Feb       26  \n",
       "1                    Seeking a data entry analyst...        Mar       06  \n",
       "2                    Part-time, remote contract r...        Mar       03  \n",
       "3                    Remote contract position for...        Feb       09  \n",
       "4                    Candidate will manage databa...        Jan       20  "
      ]
     },
     "execution_count": 13,
     "metadata": {},
     "output_type": "execute_result"
    }
   ],
   "source": [
    "# Parsing the date column so it is possibel to separate \n",
    "mon_day = [x.split() for x in final2_flex_df['Date Posted']]\n",
    "\n",
    "# Extracting the months from that list \n",
    "month = [x[0] for x in mon_day]\n",
    "\n",
    "# Extracting the Day from that list \n",
    "day = [x[1] for x in mon_day]\n",
    "\n",
    "# Insert two columns into DF - 'Post Month' and 'Post Day' and drop 'Date Posted'\n",
    "working_df = final2_flex_df.copy()\n",
    "\n",
    "working_df['Post Month'] = month\n",
    "working_df['Post Day'] = day\n",
    "\n",
    "working2_df = working_df.drop(columns = ['Date Posted', 'Unnamed: 0'])\n",
    "\n",
    "# Showing preview of updated DF\n",
    "working2_df.head()"
   ]
  },
  {
   "cell_type": "markdown",
   "metadata": {},
   "source": [
    "## PICK IT APART"
   ]
  },
  {
   "cell_type": "markdown",
   "metadata": {},
   "source": [
    "### Top Ten Job Titles listed in this search and how many times they appear "
   ]
  },
  {
   "cell_type": "code",
   "execution_count": 14,
   "metadata": {},
   "outputs": [
    {
     "data": {
      "text/html": [
       "<div>\n",
       "<style scoped>\n",
       "    .dataframe tbody tr th:only-of-type {\n",
       "        vertical-align: middle;\n",
       "    }\n",
       "\n",
       "    .dataframe tbody tr th {\n",
       "        vertical-align: top;\n",
       "    }\n",
       "\n",
       "    .dataframe thead th {\n",
       "        text-align: right;\n",
       "    }\n",
       "</style>\n",
       "<table border=\"1\" class=\"dataframe\">\n",
       "  <thead>\n",
       "    <tr style=\"text-align: right;\">\n",
       "      <th></th>\n",
       "      <th>Job Title</th>\n",
       "      <th>Count</th>\n",
       "    </tr>\n",
       "  </thead>\n",
       "  <tbody>\n",
       "    <tr>\n",
       "      <th>0</th>\n",
       "      <td>Data Analyst</td>\n",
       "      <td>35</td>\n",
       "    </tr>\n",
       "    <tr>\n",
       "      <th>1</th>\n",
       "      <td>Business Analyst</td>\n",
       "      <td>35</td>\n",
       "    </tr>\n",
       "    <tr>\n",
       "      <th>2</th>\n",
       "      <td>Financial Analyst</td>\n",
       "      <td>28</td>\n",
       "    </tr>\n",
       "    <tr>\n",
       "      <th>3</th>\n",
       "      <td>Senior Financial Analyst</td>\n",
       "      <td>24</td>\n",
       "    </tr>\n",
       "    <tr>\n",
       "      <th>4</th>\n",
       "      <td>Data Scientist</td>\n",
       "      <td>19</td>\n",
       "    </tr>\n",
       "    <tr>\n",
       "      <th>5</th>\n",
       "      <td>Senior Data Engineer</td>\n",
       "      <td>13</td>\n",
       "    </tr>\n",
       "    <tr>\n",
       "      <th>6</th>\n",
       "      <td>Senior Data Analyst</td>\n",
       "      <td>13</td>\n",
       "    </tr>\n",
       "    <tr>\n",
       "      <th>7</th>\n",
       "      <td>Senior Business Analyst</td>\n",
       "      <td>13</td>\n",
       "    </tr>\n",
       "    <tr>\n",
       "      <th>8</th>\n",
       "      <td>In-field Quantitative Market Researcher</td>\n",
       "      <td>12</td>\n",
       "    </tr>\n",
       "    <tr>\n",
       "      <th>9</th>\n",
       "      <td>Marketing Analyst</td>\n",
       "      <td>9</td>\n",
       "    </tr>\n",
       "  </tbody>\n",
       "</table>\n",
       "</div>"
      ],
      "text/plain": [
       "                                 Job Title  Count\n",
       "0                             Data Analyst     35\n",
       "1                         Business Analyst     35\n",
       "2                        Financial Analyst     28\n",
       "3                 Senior Financial Analyst     24\n",
       "4                           Data Scientist     19\n",
       "5                     Senior Data Engineer     13\n",
       "6                      Senior Data Analyst     13\n",
       "7                  Senior Business Analyst     13\n",
       "8  In-field Quantitative Market Researcher     12\n",
       "9                        Marketing Analyst      9"
      ]
     },
     "execution_count": 14,
     "metadata": {},
     "output_type": "execute_result"
    }
   ],
   "source": [
    "# 'Data Entry Analyst'\n",
    "\n",
    "data_analyst_jt = [x for x in working2_df['Job Title'] if x == 'Data Analyst']\n",
    "count_data_anayst = len(data_analyst_jt)\n",
    "#count_data_anayst\n",
    "\n",
    "# Create a DF with the top 10 job titles and the amount of times they appear \n",
    "counts_jt = working2_df.groupby('Job Title').count().sort_values(by='Type', ascending=False).reset_index()[:10]\n",
    "counts_jt['Count'] = counts_jt['Type']\n",
    "job_title_count = counts_jt[['Job Title', 'Count']]\n",
    "\n",
    "#job_title_count.to_excel('Job_title_flex.xlsx')\n",
    "\n",
    "job_title_count"
   ]
  },
  {
   "cell_type": "code",
   "execution_count": 15,
   "metadata": {},
   "outputs": [
    {
     "data": {
      "image/png": "[encoded data removed]",
      "text/plain": [
       "<Figure size 1080x360 with 1 Axes>"
      ]
     },
     "metadata": {
      "needs_background": "light"
     },
     "output_type": "display_data"
    }
   ],
   "source": [
    "# Plotting \n",
    "\n",
    "fig = plt.figure(figsize = (15, 5))\n",
    " \n",
    "job_title_bar = sns.barplot(x=\"Job Title\", y=\"Count\", data=job_title_count)\n",
    "plt.xticks(rotation=70)\n",
    "plt.title('Top 10 Job Titles')\n",
    "plt.show()"
   ]
  },
  {
   "cell_type": "markdown",
   "metadata": {},
   "source": [
    "### Top Ten Job Types listed in this search and how many times they appear "
   ]
  },
  {
   "cell_type": "code",
   "execution_count": 16,
   "metadata": {},
   "outputs": [
    {
     "data": {
      "text/html": [
       "<div>\n",
       "<style scoped>\n",
       "    .dataframe tbody tr th:only-of-type {\n",
       "        vertical-align: middle;\n",
       "    }\n",
       "\n",
       "    .dataframe tbody tr th {\n",
       "        vertical-align: top;\n",
       "    }\n",
       "\n",
       "    .dataframe thead th {\n",
       "        text-align: right;\n",
       "    }\n",
       "</style>\n",
       "<table border=\"1\" class=\"dataframe\">\n",
       "  <thead>\n",
       "    <tr style=\"text-align: right;\">\n",
       "      <th></th>\n",
       "      <th>Type</th>\n",
       "      <th>Count</th>\n",
       "    </tr>\n",
       "  </thead>\n",
       "  <tbody>\n",
       "    <tr>\n",
       "      <th>0</th>\n",
       "      <td>Full-Time, 100% Remote Job</td>\n",
       "      <td>836</td>\n",
       "    </tr>\n",
       "    <tr>\n",
       "      <th>1</th>\n",
       "      <td>Full-Time, Option for Remote Job</td>\n",
       "      <td>431</td>\n",
       "    </tr>\n",
       "    <tr>\n",
       "      <th>2</th>\n",
       "      <td>Full-Time, Remote - During Pandemic Job</td>\n",
       "      <td>257</td>\n",
       "    </tr>\n",
       "    <tr>\n",
       "      <th>3</th>\n",
       "      <td>Full-Time, Partial Remote Job</td>\n",
       "      <td>172</td>\n",
       "    </tr>\n",
       "    <tr>\n",
       "      <th>4</th>\n",
       "      <td>100% Remote Job</td>\n",
       "      <td>39</td>\n",
       "    </tr>\n",
       "    <tr>\n",
       "      <th>5</th>\n",
       "      <td>Full-Time, Flexible Schedule Job</td>\n",
       "      <td>33</td>\n",
       "    </tr>\n",
       "    <tr>\n",
       "      <th>6</th>\n",
       "      <td>Freelance Job</td>\n",
       "      <td>27</td>\n",
       "    </tr>\n",
       "    <tr>\n",
       "      <th>7</th>\n",
       "      <td>Part-Time, 100% Remote Job</td>\n",
       "      <td>25</td>\n",
       "    </tr>\n",
       "    <tr>\n",
       "      <th>8</th>\n",
       "      <td>Remote - During Pandemic Job</td>\n",
       "      <td>24</td>\n",
       "    </tr>\n",
       "    <tr>\n",
       "      <th>9</th>\n",
       "      <td>Full-Time, Freelance Job</td>\n",
       "      <td>20</td>\n",
       "    </tr>\n",
       "  </tbody>\n",
       "</table>\n",
       "</div>"
      ],
      "text/plain": [
       "                                      Type  Count\n",
       "0               Full-Time, 100% Remote Job    836\n",
       "1         Full-Time, Option for Remote Job    431\n",
       "2  Full-Time, Remote - During Pandemic Job    257\n",
       "3            Full-Time, Partial Remote Job    172\n",
       "4                          100% Remote Job     39\n",
       "5         Full-Time, Flexible Schedule Job     33\n",
       "6                            Freelance Job     27\n",
       "7               Part-Time, 100% Remote Job     25\n",
       "8             Remote - During Pandemic Job     24\n",
       "9                 Full-Time, Freelance Job     20"
      ]
     },
     "execution_count": 16,
     "metadata": {},
     "output_type": "execute_result"
    }
   ],
   "source": [
    "# Create a DF with the top 10 job titles and the amount of times they appear \n",
    "counts_jty = working2_df.groupby('Type').count().sort_values(by='Quals', ascending=False).reset_index()[:10]\n",
    "counts_jty['Count'] = counts_jty['Quals']\n",
    "#job_title_count = counts_jt[['Type', 'Count']]\n",
    "\n",
    "job_type_count = pd.DataFrame(counts_jty[['Type','Count']])\n",
    "job_type_count\n",
    "#job_type_count.to_excel('job_type_flex.xlsx')"
   ]
  },
  {
   "cell_type": "code",
   "execution_count": 17,
   "metadata": {},
   "outputs": [
    {
     "data": {
      "image/png": "[encoded data removed]",
      "text/plain": [
       "<Figure size 1080x360 with 1 Axes>"
      ]
     },
     "metadata": {
      "needs_background": "light"
     },
     "output_type": "display_data"
    }
   ],
   "source": [
    "# Plotting \n",
    "\n",
    "fig = plt.figure(figsize = (15, 5))\n",
    " \n",
    "job_type_bar = sns.barplot(x=\"Type\", y=\"Count\", data=job_type_count)\n",
    "plt.xticks(rotation=70)\n",
    "plt.title('Top 10 Job Type')\n",
    "plt.show()"
   ]
  },
  {
   "cell_type": "markdown",
   "metadata": {},
   "source": [
    "## Working on the Qualifications Category "
   ]
  },
  {
   "cell_type": "code",
   "execution_count": 18,
   "metadata": {},
   "outputs": [],
   "source": [
    "# Removing all special characters that are present in the DF\n",
    "clean_quals_li = [re.sub(\"[,./']\" ,' ',x).strip() for x in working2_df['Quals']]"
   ]
  },
  {
   "cell_type": "markdown",
   "metadata": {},
   "source": [
    "### Cleaning list and removing filler-words to start removing words from the list "
   ]
  },
  {
   "cell_type": "code",
   "execution_count": 19,
   "metadata": {},
   "outputs": [],
   "source": [
    "# Removing double-spaces from DF\n",
    "clean_quals_lis = [x.replace('  ', ' ') for x in clean_quals_li]\n",
    "#clean_quals_lis[:5]\n",
    "\n",
    "# Removing a when it is on its on\n",
    "# clean_quals_list is a clean list \n",
    "clean_quals_list = [x.replace(' a ',' ') for x in clean_quals_lis]\n",
    "#clean_quals_list[:5]\n",
    "\n",
    "# Create a copy of list to work \n",
    "cql = clean_quals_list.copy()\n",
    "\n",
    "# Removing a bunch of words that are not specific \n",
    "cql1 =  [x.replace('Data',' ').replace('data',' ').replace('entry',' ').replace('Entry',' ').replace(' for ',' ').replace(' and ', ' ')\n",
    "        .replace(' be ', ' ').replace(' able ', ' ').replace(' to ', ' ').replace(' with ', ' ').replace(' or ', ' ').replace(' is ', ' ')\n",
    "        .replace('  ',' ').replace('   ', ' ').strip() for x in cql]\n",
    "        \n",
    "# cql1 is list with about half words gone KEEP IT HERE AND start stripping with a second list \n",
    "cql2 = [x.replace('He ', '').replace('She ', '').replace(' will ', ' ').replace(' Will ', ' ')\n",
    "        .replace('in ', ' ').replace(' the ', ' ').replace(' s ', ' ').replace('  ', ' ') for x in cql1]"
   ]
  },
  {
   "cell_type": "markdown",
   "metadata": {},
   "source": [
    "### Getting counts of specific words in each description "
   ]
  },
  {
   "cell_type": "code",
   "execution_count": 20,
   "metadata": {},
   "outputs": [],
   "source": [
    "# Make cipy of DF for this \n",
    "working3_df = working2_df.copy()"
   ]
  },
  {
   "cell_type": "code",
   "execution_count": 21,
   "metadata": {
    "collapsed": true,
    "jupyter": {
     "outputs_hidden": true
    }
   },
   "outputs": [
    {
     "data": {
      "text/plain": [
       "[6,\n",
       " 11,\n",
       " 14,\n",
       " 27,\n",
       " 31,\n",
       " 39,\n",
       " 46,\n",
       " 49,\n",
       " 55,\n",
       " 56,\n",
       " 62,\n",
       " 68,\n",
       " 71,\n",
       " 80,\n",
       " 90,\n",
       " 91,\n",
       " 95,\n",
       " 99,\n",
       " 117,\n",
       " 126,\n",
       " 137,\n",
       " 139,\n",
       " 151,\n",
       " 152,\n",
       " 176,\n",
       " 181,\n",
       " 221,\n",
       " 246,\n",
       " 254,\n",
       " 287,\n",
       " 310,\n",
       " 320,\n",
       " 351,\n",
       " 357,\n",
       " 366,\n",
       " 376,\n",
       " 415,\n",
       " 437,\n",
       " 445,\n",
       " 461,\n",
       " 466,\n",
       " 470,\n",
       " 489,\n",
       " 490,\n",
       " 501,\n",
       " 513,\n",
       " 529,\n",
       " 537,\n",
       " 572,\n",
       " 574,\n",
       " 599,\n",
       " 724,\n",
       " 741,\n",
       " 745,\n",
       " 772,\n",
       " 808,\n",
       " 811,\n",
       " 887,\n",
       " 931,\n",
       " 966,\n",
       " 984,\n",
       " 997,\n",
       " 1060,\n",
       " 1086,\n",
       " 1094,\n",
       " 1121,\n",
       " 1129,\n",
       " 1147,\n",
       " 1165,\n",
       " 1171,\n",
       " 1176,\n",
       " 1177,\n",
       " 1222,\n",
       " 1223,\n",
       " 1229,\n",
       " 1306,\n",
       " 1345,\n",
       " 1483,\n",
       " 1486,\n",
       " 1508,\n",
       " 1545,\n",
       " 1566,\n",
       " 1575,\n",
       " 1578,\n",
       " 1686,\n",
       " 1696,\n",
       " 1700,\n",
       " 1764,\n",
       " 1835]"
      ]
     },
     "execution_count": 21,
     "metadata": {},
     "output_type": "execute_result"
    }
   ],
   "source": [
    "# Getting a list of indexes where sql is in the description \n",
    "sql_list = []\n",
    "\n",
    "for index, i in enumerate(working3_df['Quals']):\n",
    "\n",
    "    if re.findall('(sql|SQL)', i):\n",
    "        sql_list.append(index)\n",
    "\n",
    "sql_list"
   ]
  },
  {
   "cell_type": "code",
   "execution_count": 22,
   "metadata": {
    "collapsed": true,
    "jupyter": {
     "outputs_hidden": true
    }
   },
   "outputs": [
    {
     "data": {
      "text/plain": [
       "[11,\n",
       " 27,\n",
       " 46,\n",
       " 71,\n",
       " 76,\n",
       " 91,\n",
       " 131,\n",
       " 139,\n",
       " 171,\n",
       " 174,\n",
       " 254,\n",
       " 306,\n",
       " 382,\n",
       " 421,\n",
       " 490,\n",
       " 572,\n",
       " 808,\n",
       " 814,\n",
       " 868,\n",
       " 997,\n",
       " 1086,\n",
       " 1090,\n",
       " 1121,\n",
       " 1388,\n",
       " 1483,\n",
       " 1503,\n",
       " 1545,\n",
       " 1653,\n",
       " 1725,\n",
       " 1753,\n",
       " 1754,\n",
       " 1894]"
      ]
     },
     "execution_count": 22,
     "metadata": {},
     "output_type": "execute_result"
    }
   ],
   "source": [
    "# Getting a list of indexes where python is in the description \n",
    "python_list = []\n",
    "\n",
    "for index, i in enumerate(working3_df['Quals']):\n",
    "\n",
    "    if re.findall('(python|Python)', i):\n",
    "        python_list.append(index)\n",
    "\n",
    "python_list"
   ]
  },
  {
   "cell_type": "code",
   "execution_count": 23,
   "metadata": {
    "collapsed": true,
    "jupyter": {
     "outputs_hidden": true
    }
   },
   "outputs": [
    {
     "data": {
      "text/plain": [
       "[0,\n",
       " 6,\n",
       " 14,\n",
       " 19,\n",
       " 27,\n",
       " 39,\n",
       " 40,\n",
       " 52,\n",
       " 53,\n",
       " 154,\n",
       " 203,\n",
       " 248,\n",
       " 265,\n",
       " 267,\n",
       " 273,\n",
       " 283,\n",
       " 292,\n",
       " 338,\n",
       " 346,\n",
       " 361,\n",
       " 409,\n",
       " 416,\n",
       " 449,\n",
       " 451,\n",
       " 466,\n",
       " 476,\n",
       " 495,\n",
       " 509,\n",
       " 513,\n",
       " 537,\n",
       " 555,\n",
       " 585,\n",
       " 599,\n",
       " 630,\n",
       " 701,\n",
       " 702,\n",
       " 739,\n",
       " 803,\n",
       " 826,\n",
       " 856,\n",
       " 906,\n",
       " 1057,\n",
       " 1130,\n",
       " 1171,\n",
       " 1182,\n",
       " 1184,\n",
       " 1190,\n",
       " 1219,\n",
       " 1222,\n",
       " 1229,\n",
       " 1263,\n",
       " 1350,\n",
       " 1408,\n",
       " 1425,\n",
       " 1506,\n",
       " 1543,\n",
       " 1584,\n",
       " 1605,\n",
       " 1684,\n",
       " 1786,\n",
       " 1788,\n",
       " 1885]"
      ]
     },
     "execution_count": 23,
     "metadata": {},
     "output_type": "execute_result"
    }
   ],
   "source": [
    "# Getting a list of indexes where Excel is in the description \n",
    "excel_list = []\n",
    "\n",
    "for index, i in enumerate(working3_df['Quals']):\n",
    "\n",
    "    if re.findall('(excel|Excel|xcl|xcel)', i):\n",
    "        excel_list.append(index)\n",
    "\n",
    "excel_list"
   ]
  },
  {
   "cell_type": "code",
   "execution_count": 24,
   "metadata": {},
   "outputs": [
    {
     "data": {
      "text/plain": [
       "[40, 51, 62, 382, 445, 572, 581, 739, 803, 1087, 1171, 1176, 1310, 1457, 1566]"
      ]
     },
     "execution_count": 24,
     "metadata": {},
     "output_type": "execute_result"
    }
   ],
   "source": [
    "# Getting a list of indexes where Tableau is in the description \n",
    "tab_list = []\n",
    "\n",
    "for index, i in enumerate(working3_df['Quals']):\n",
    "\n",
    "    if re.findall('(tableau|Tableau)', i):\n",
    "        tab_list.append(index)\n",
    "\n",
    "tab_list"
   ]
  },
  {
   "cell_type": "code",
   "execution_count": 25,
   "metadata": {},
   "outputs": [
    {
     "data": {
      "text/plain": [
       "[59, 532, 664]"
      ]
     },
     "execution_count": 25,
     "metadata": {},
     "output_type": "execute_result"
    }
   ],
   "source": [
    "# Getting a list of indexes where Power BI is in the description \n",
    "pbi_list = []\n",
    "\n",
    "for index, i in enumerate(working3_df['Quals']):\n",
    "\n",
    "    if re.findall('(power bi|Power bi|power BI|Power BI|POWER BI)', i):\n",
    "        pbi_list.append(index)\n",
    "\n",
    "pbi_list"
   ]
  },
  {
   "cell_type": "code",
   "execution_count": 26,
   "metadata": {
    "collapsed": true,
    "jupyter": {
     "outputs_hidden": true
    }
   },
   "outputs": [
    {
     "data": {
      "text/plain": [
       "[3,\n",
       " 9,\n",
       " 11,\n",
       " 14,\n",
       " 17,\n",
       " 20,\n",
       " 27,\n",
       " 37,\n",
       " 38,\n",
       " 42,\n",
       " 45,\n",
       " 57,\n",
       " 81,\n",
       " 84,\n",
       " 85,\n",
       " 95,\n",
       " 97,\n",
       " 122,\n",
       " 134,\n",
       " 136,\n",
       " 150,\n",
       " 176,\n",
       " 186,\n",
       " 220,\n",
       " 238,\n",
       " 239,\n",
       " 299,\n",
       " 304,\n",
       " 316,\n",
       " 321,\n",
       " 331,\n",
       " 399,\n",
       " 423,\n",
       " 436,\n",
       " 459,\n",
       " 465,\n",
       " 472,\n",
       " 598,\n",
       " 599,\n",
       " 602,\n",
       " 634,\n",
       " 637,\n",
       " 660,\n",
       " 663,\n",
       " 705,\n",
       " 731,\n",
       " 737,\n",
       " 739,\n",
       " 741,\n",
       " 759,\n",
       " 809,\n",
       " 840,\n",
       " 841,\n",
       " 850,\n",
       " 910,\n",
       " 972,\n",
       " 976,\n",
       " 994,\n",
       " 1010,\n",
       " 1049,\n",
       " 1067,\n",
       " 1092,\n",
       " 1093,\n",
       " 1100,\n",
       " 1129,\n",
       " 1132,\n",
       " 1146,\n",
       " 1150,\n",
       " 1163,\n",
       " 1165,\n",
       " 1166,\n",
       " 1167,\n",
       " 1199,\n",
       " 1203,\n",
       " 1211,\n",
       " 1298,\n",
       " 1808]"
      ]
     },
     "execution_count": 26,
     "metadata": {},
     "output_type": "execute_result"
    }
   ],
   "source": [
    "# Getting a list of indexes where Dashboard is in the description \n",
    "dashboard_list = []\n",
    "\n",
    "for index, i in enumerate(working3_df['Quals']):\n",
    "\n",
    "    if re.findall('(dashboard|Dashboard|dashboards|Dashboards)', i):\n",
    "       dashboard_list.append(index)\n",
    "\n",
    "dashboard_list"
   ]
  },
  {
   "cell_type": "code",
   "execution_count": 27,
   "metadata": {
    "collapsed": true,
    "jupyter": {
     "outputs_hidden": true
    }
   },
   "outputs": [
    {
     "data": {
      "text/plain": [
       "[3,\n",
       " 5,\n",
       " 6,\n",
       " 18,\n",
       " 21,\n",
       " 32,\n",
       " 59,\n",
       " 67,\n",
       " 74,\n",
       " 93,\n",
       " 135,\n",
       " 158,\n",
       " 162,\n",
       " 171,\n",
       " 176,\n",
       " 287,\n",
       " 298,\n",
       " 310,\n",
       " 316,\n",
       " 320,\n",
       " 321,\n",
       " 327,\n",
       " 331,\n",
       " 334,\n",
       " 352,\n",
       " 363,\n",
       " 388,\n",
       " 410,\n",
       " 467,\n",
       " 516,\n",
       " 524,\n",
       " 541,\n",
       " 543,\n",
       " 546,\n",
       " 573,\n",
       " 574,\n",
       " 581,\n",
       " 619,\n",
       " 633,\n",
       " 655,\n",
       " 710,\n",
       " 715,\n",
       " 731,\n",
       " 746,\n",
       " 757,\n",
       " 791,\n",
       " 824,\n",
       " 833,\n",
       " 851,\n",
       " 857,\n",
       " 863,\n",
       " 865,\n",
       " 881,\n",
       " 888,\n",
       " 920,\n",
       " 936,\n",
       " 945,\n",
       " 956,\n",
       " 985,\n",
       " 1027,\n",
       " 1039,\n",
       " 1060,\n",
       " 1076,\n",
       " 1085,\n",
       " 1086,\n",
       " 1091,\n",
       " 1101,\n",
       " 1123,\n",
       " 1136,\n",
       " 1161,\n",
       " 1174,\n",
       " 1235,\n",
       " 1269,\n",
       " 1291,\n",
       " 1322,\n",
       " 1332,\n",
       " 1340,\n",
       " 1344,\n",
       " 1354,\n",
       " 1399,\n",
       " 1400,\n",
       " 1404,\n",
       " 1423,\n",
       " 1447,\n",
       " 1465,\n",
       " 1495,\n",
       " 1496,\n",
       " 1498,\n",
       " 1502,\n",
       " 1510,\n",
       " 1511,\n",
       " 1516,\n",
       " 1529,\n",
       " 1530,\n",
       " 1556,\n",
       " 1559,\n",
       " 1562,\n",
       " 1596,\n",
       " 1611,\n",
       " 1638,\n",
       " 1642,\n",
       " 1644,\n",
       " 1645,\n",
       " 1650,\n",
       " 1692,\n",
       " 1696,\n",
       " 1702,\n",
       " 1728,\n",
       " 1731,\n",
       " 1739,\n",
       " 1746,\n",
       " 1751,\n",
       " 1758,\n",
       " 1762,\n",
       " 1768,\n",
       " 1770,\n",
       " 1792,\n",
       " 1793,\n",
       " 1795,\n",
       " 1803,\n",
       " 1818,\n",
       " 1820,\n",
       " 1824,\n",
       " 1853,\n",
       " 1855,\n",
       " 1860,\n",
       " 1861,\n",
       " 1863,\n",
       " 1876,\n",
       " 1888,\n",
       " 1908,\n",
       " 1913,\n",
       " 1914]"
      ]
     },
     "execution_count": 27,
     "metadata": {},
     "output_type": "execute_result"
    }
   ],
   "source": [
    "# Getting a list of indexes where collaborate is in the description \n",
    "collaborate_list = []\n",
    "\n",
    "for index, i in enumerate(working3_df['Quals']):\n",
    "\n",
    "    if re.findall('(collaborate|Collaborate)', i):\n",
    "       collaborate_list.append(index)\n",
    "\n",
    "collaborate_list"
   ]
  },
  {
   "cell_type": "code",
   "execution_count": 28,
   "metadata": {
    "collapsed": true,
    "jupyter": {
     "outputs_hidden": true
    }
   },
   "outputs": [
    {
     "data": {
      "text/plain": [
       "[4,\n",
       " 7,\n",
       " 10,\n",
       " 12,\n",
       " 22,\n",
       " 147,\n",
       " 161,\n",
       " 181,\n",
       " 212,\n",
       " 252,\n",
       " 265,\n",
       " 323,\n",
       " 527,\n",
       " 595,\n",
       " 601,\n",
       " 662,\n",
       " 735,\n",
       " 752,\n",
       " 782,\n",
       " 795,\n",
       " 797,\n",
       " 799,\n",
       " 801,\n",
       " 815,\n",
       " 823,\n",
       " 912,\n",
       " 1122,\n",
       " 1134,\n",
       " 1227,\n",
       " 1288,\n",
       " 1351,\n",
       " 1378]"
      ]
     },
     "execution_count": 28,
     "metadata": {},
     "output_type": "execute_result"
    }
   ],
   "source": [
    "# Getting a list of indexes where interpret is in the description \n",
    "interpret_list = []\n",
    "\n",
    "for index, i in enumerate(working3_df['Quals']):\n",
    "\n",
    "    if re.findall('(interpret|Interpret|interprets|Interprets)', i):\n",
    "       interpret_list.append(index)\n",
    "\n",
    "interpret_list"
   ]
  },
  {
   "cell_type": "code",
   "execution_count": 29,
   "metadata": {},
   "outputs": [
    {
     "data": {
      "text/plain": [
       "[69, 103, 228, 481, 692, 1019, 1367, 1498, 1512, 1564, 1655, 1718, 1812]"
      ]
     },
     "execution_count": 29,
     "metadata": {},
     "output_type": "execute_result"
    }
   ],
   "source": [
    "# Getting a list of indexes where integrate is in the description \n",
    "integrate_list = []\n",
    "\n",
    "for index, i in enumerate(working3_df['Quals']):\n",
    "\n",
    "    if re.findall('(integrate|Integrate|integrates|Integrates)', i):\n",
    "       integrate_list.append(index)\n",
    "\n",
    "integrate_list"
   ]
  },
  {
   "cell_type": "code",
   "execution_count": 30,
   "metadata": {
    "collapsed": true,
    "jupyter": {
     "outputs_hidden": true
    }
   },
   "outputs": [
    {
     "data": {
      "text/plain": [
       "[20,\n",
       " 69,\n",
       " 75,\n",
       " 86,\n",
       " 112,\n",
       " 166,\n",
       " 293,\n",
       " 345,\n",
       " 570,\n",
       " 634,\n",
       " 671,\n",
       " 810,\n",
       " 866,\n",
       " 901,\n",
       " 1036,\n",
       " 1077,\n",
       " 1088,\n",
       " 1126,\n",
       " 1129,\n",
       " 1162,\n",
       " 1227,\n",
       " 1254,\n",
       " 1325,\n",
       " 1341,\n",
       " 1404,\n",
       " 1458,\n",
       " 1546,\n",
       " 1588,\n",
       " 1589,\n",
       " 1636,\n",
       " 1731,\n",
       " 1768,\n",
       " 1789,\n",
       " 1804,\n",
       " 1814,\n",
       " 1824,\n",
       " 1835,\n",
       " 1857,\n",
       " 1927]"
      ]
     },
     "execution_count": 30,
     "metadata": {},
     "output_type": "execute_result"
    }
   ],
   "source": [
    "# Getting a list of indexes where translate is in the description \n",
    "translate_list = []\n",
    "\n",
    "for index, i in enumerate(working3_df['Quals']):\n",
    "\n",
    "    if re.findall('(translate|translates|Translate|Translates)', i):\n",
    "       translate_list.append(index)\n",
    "\n",
    "translate_list"
   ]
  },
  {
   "cell_type": "markdown",
   "metadata": {},
   "source": [
    "### Create dfS to create visual for word count"
   ]
  },
  {
   "cell_type": "code",
   "execution_count": 31,
   "metadata": {},
   "outputs": [
    {
     "data": {
      "text/html": [
       "<div>\n",
       "<style scoped>\n",
       "    .dataframe tbody tr th:only-of-type {\n",
       "        vertical-align: middle;\n",
       "    }\n",
       "\n",
       "    .dataframe tbody tr th {\n",
       "        vertical-align: top;\n",
       "    }\n",
       "\n",
       "    .dataframe thead th {\n",
       "        text-align: right;\n",
       "    }\n",
       "</style>\n",
       "<table border=\"1\" class=\"dataframe\">\n",
       "  <thead>\n",
       "    <tr style=\"text-align: right;\">\n",
       "      <th></th>\n",
       "      <th>Key Word</th>\n",
       "      <th>Count</th>\n",
       "    </tr>\n",
       "  </thead>\n",
       "  <tbody>\n",
       "    <tr>\n",
       "      <th>0</th>\n",
       "      <td>SQL</td>\n",
       "      <td>89</td>\n",
       "    </tr>\n",
       "    <tr>\n",
       "      <th>5</th>\n",
       "      <td>Dashboards</td>\n",
       "      <td>77</td>\n",
       "    </tr>\n",
       "    <tr>\n",
       "      <th>2</th>\n",
       "      <td>Excel</td>\n",
       "      <td>62</td>\n",
       "    </tr>\n",
       "    <tr>\n",
       "      <th>1</th>\n",
       "      <td>Python</td>\n",
       "      <td>32</td>\n",
       "    </tr>\n",
       "    <tr>\n",
       "      <th>3</th>\n",
       "      <td>Tableau</td>\n",
       "      <td>15</td>\n",
       "    </tr>\n",
       "    <tr>\n",
       "      <th>4</th>\n",
       "      <td>Power BI</td>\n",
       "      <td>3</td>\n",
       "    </tr>\n",
       "  </tbody>\n",
       "</table>\n",
       "</div>"
      ],
      "text/plain": [
       "     Key Word  Count\n",
       "0         SQL     89\n",
       "5  Dashboards     77\n",
       "2       Excel     62\n",
       "1      Python     32\n",
       "3     Tableau     15\n",
       "4    Power BI      3"
      ]
     },
     "execution_count": 31,
     "metadata": {},
     "output_type": "execute_result"
    }
   ],
   "source": [
    "# Hard Skills for entire List of Jobs \n",
    "\n",
    "hard_skills_columns = ['SQL', 'Python', \"Excel\", \"Tableau\", \"Power BI\", \"Dashboards\"]\n",
    "hard_skills_count = [len(sql_list),len(python_list),len(excel_list),len(tab_list),len(pbi_list),len(dashboard_list)]\n",
    "hard_skills_dict = {'Key Word': hard_skills_columns, 'Count': hard_skills_count}\n",
    "\n",
    "\n",
    "hard_skills_df = pd.DataFrame(hard_skills_dict).sort_values(by='Count', ascending = False) \n",
    "hard_skills_df"
   ]
  },
  {
   "cell_type": "code",
   "execution_count": 32,
   "metadata": {},
   "outputs": [
    {
     "data": {
      "image/png": "[encoded data removed]",
      "text/plain": [
       "<Figure size 1080x360 with 1 Axes>"
      ]
     },
     "metadata": {
      "needs_background": "light"
     },
     "output_type": "display_data"
    }
   ],
   "source": [
    "# Plotting \n",
    "\n",
    "fig = plt.figure(figsize = (15, 5))\n",
    " \n",
    "job_skill_bar = sns.barplot(x=\"Key Word\", y=\"Count\", data= hard_skills_df)\n",
    "plt.xticks(rotation=70)\n",
    "plt.title('Hard Skills Frequency')\n",
    "plt.show()"
   ]
  },
  {
   "cell_type": "code",
   "execution_count": 33,
   "metadata": {},
   "outputs": [
    {
     "data": {
      "text/html": [
       "<div>\n",
       "<style scoped>\n",
       "    .dataframe tbody tr th:only-of-type {\n",
       "        vertical-align: middle;\n",
       "    }\n",
       "\n",
       "    .dataframe tbody tr th {\n",
       "        vertical-align: top;\n",
       "    }\n",
       "\n",
       "    .dataframe thead th {\n",
       "        text-align: right;\n",
       "    }\n",
       "</style>\n",
       "<table border=\"1\" class=\"dataframe\">\n",
       "  <thead>\n",
       "    <tr style=\"text-align: right;\">\n",
       "      <th></th>\n",
       "      <th>Key Word</th>\n",
       "      <th>Count</th>\n",
       "    </tr>\n",
       "  </thead>\n",
       "  <tbody>\n",
       "    <tr>\n",
       "      <th>0</th>\n",
       "      <td>Collaborate</td>\n",
       "      <td>133</td>\n",
       "    </tr>\n",
       "    <tr>\n",
       "      <th>1</th>\n",
       "      <td>Interpret</td>\n",
       "      <td>32</td>\n",
       "    </tr>\n",
       "    <tr>\n",
       "      <th>2</th>\n",
       "      <td>Integrate</td>\n",
       "      <td>13</td>\n",
       "    </tr>\n",
       "    <tr>\n",
       "      <th>3</th>\n",
       "      <td>Translate</td>\n",
       "      <td>39</td>\n",
       "    </tr>\n",
       "  </tbody>\n",
       "</table>\n",
       "</div>"
      ],
      "text/plain": [
       "      Key Word  Count\n",
       "0  Collaborate    133\n",
       "1    Interpret     32\n",
       "2    Integrate     13\n",
       "3    Translate     39"
      ]
     },
     "execution_count": 33,
     "metadata": {},
     "output_type": "execute_result"
    }
   ],
   "source": [
    "# Soft Skills for entire list \n",
    "\n",
    "soft_skills_columns = ['Collaborate', 'Interpret', \"Integrate\", \"Translate\"]\n",
    "soft_skills_count = [len(collaborate_list),len(interpret_list),len(integrate_list),len(translate_list)]\n",
    "soft_skills_dict = {'Key Word': soft_skills_columns, 'Count': soft_skills_count}\n",
    "\n",
    "\n",
    "soft_skills_df = pd.DataFrame(soft_skills_dict) \n",
    "soft_skills_df"
   ]
  },
  {
   "cell_type": "markdown",
   "metadata": {},
   "source": [
    "### TURNING THE QUALS CATEGORY INTO ONE GIANT STRING and COUNT OCCURANCES "
   ]
  },
  {
   "cell_type": "code",
   "execution_count": 34,
   "metadata": {},
   "outputs": [],
   "source": [
    "def concat_list(list):\n",
    "    big_string = ''\n",
    "    for ele in list:\n",
    "        big_string += str(ele + ' ')\n",
    "    return big_string\n",
    "\n",
    "con_string = concat_list(clean_quals_li)\n",
    "\n",
    "con_string_ready = con_string.replace('  ', ' ')\n",
    "#con_string_ready"
   ]
  },
  {
   "cell_type": "code",
   "execution_count": 35,
   "metadata": {},
   "outputs": [],
   "source": [
    "def word_co(x):\n",
    "    con = dict()\n",
    "    wor = x.split()\n",
    "\n",
    "    for i in wor:\n",
    "        if i in con:\n",
    "            con[i] += 1\n",
    "        else:\n",
    "            con[i] = 1\n",
    "\n",
    "    return con\n",
    "\n",
    "#Its a dictionary now \n",
    "keys_words_dict = word_co(con_string_ready)"
   ]
  },
  {
   "cell_type": "markdown",
   "metadata": {},
   "source": [
    "### Turning it all into a df"
   ]
  },
  {
   "cell_type": "code",
   "execution_count": 36,
   "metadata": {},
   "outputs": [],
   "source": [
    "keys_words_df = pd.DataFrame([k + ' ' + str(v) for k, v in keys_words_dict.items()], columns=['Count'])\n",
    "#print(keys_words_df)\n",
    "\n",
    "kw_list = []\n",
    "kcount = []\n",
    "\n",
    "for i in keys_words_df['Count']:\n",
    "    w,c = i.split()\n",
    "    kw_list.append(w)\n",
    "    kcount.append(c)"
   ]
  },
  {
   "cell_type": "code",
   "execution_count": 37,
   "metadata": {},
   "outputs": [
    {
     "name": "stdout",
     "output_type": "stream",
     "text": [
      "<class 'pandas.core.frame.DataFrame'>\n",
      "RangeIndex: 4244 entries, 0 to 4243\n",
      "Data columns (total 2 columns):\n",
      " #   Column    Non-Null Count  Dtype \n",
      "---  ------    --------------  ----- \n",
      " 0   Key_Word  4244 non-null   object\n",
      " 1   Count     4244 non-null   int64 \n",
      "dtypes: int64(1), object(1)\n",
      "memory usage: 66.4+ KB\n"
     ]
    }
   ],
   "source": [
    "# Dealing with DATA TYPES \n",
    "\n",
    "kw_count_df = pd.DataFrame(kw_list, columns = ['Key_Word'])\n",
    "kw_count_df['Count'] = kcount\n",
    "\n",
    "# Changing Count from Object to int8\n",
    "copy_kw_df = kw_count_df.copy()\n",
    "copy_kw_df[\"Count\"] = pd.to_numeric(copy_kw_df[\"Count\"])\n",
    "copy_kw_df.info()"
   ]
  },
  {
   "cell_type": "code",
   "execution_count": 38,
   "metadata": {},
   "outputs": [],
   "source": [
    "ordered_kw_df = copy_kw_df.sort_values(by = 'Count', ascending=False)"
   ]
  },
  {
   "cell_type": "markdown",
   "metadata": {},
   "source": [
    "### Grabbing the words that PROVIDE INSIGHT "
   ]
  },
  {
   "cell_type": "code",
   "execution_count": 39,
   "metadata": {},
   "outputs": [],
   "source": [
    "# This required me to look through the list and manually pick which words were valuable. "
   ]
  },
  {
   "cell_type": "code",
   "execution_count": 40,
   "metadata": {},
   "outputs": [
    {
     "data": {
      "text/html": [
       "<div>\n",
       "<style scoped>\n",
       "    .dataframe tbody tr th:only-of-type {\n",
       "        vertical-align: middle;\n",
       "    }\n",
       "\n",
       "    .dataframe tbody tr th {\n",
       "        vertical-align: top;\n",
       "    }\n",
       "\n",
       "    .dataframe thead th {\n",
       "        text-align: right;\n",
       "    }\n",
       "</style>\n",
       "<table border=\"1\" class=\"dataframe\">\n",
       "  <thead>\n",
       "    <tr style=\"text-align: right;\">\n",
       "      <th></th>\n",
       "      <th>Key_Word</th>\n",
       "      <th>Count</th>\n",
       "    </tr>\n",
       "  </thead>\n",
       "  <tbody>\n",
       "    <tr>\n",
       "      <th>56</th>\n",
       "      <td>experience</td>\n",
       "      <td>1345</td>\n",
       "    </tr>\n",
       "    <tr>\n",
       "      <th>113</th>\n",
       "      <td>degree</td>\n",
       "      <td>655</td>\n",
       "    </tr>\n",
       "    <tr>\n",
       "      <th>61</th>\n",
       "      <td>develop</td>\n",
       "      <td>348</td>\n",
       "    </tr>\n",
       "    <tr>\n",
       "      <th>78</th>\n",
       "      <td>exp</td>\n",
       "      <td>320</td>\n",
       "    </tr>\n",
       "    <tr>\n",
       "      <th>73</th>\n",
       "      <td>provide</td>\n",
       "      <td>267</td>\n",
       "    </tr>\n",
       "    <tr>\n",
       "      <th>122</th>\n",
       "      <td>team</td>\n",
       "      <td>267</td>\n",
       "    </tr>\n",
       "    <tr>\n",
       "      <th>108</th>\n",
       "      <td>analyze</td>\n",
       "      <td>242</td>\n",
       "    </tr>\n",
       "    <tr>\n",
       "      <th>95</th>\n",
       "      <td>create</td>\n",
       "      <td>204</td>\n",
       "    </tr>\n",
       "    <tr>\n",
       "      <th>50</th>\n",
       "      <td>identify</td>\n",
       "      <td>183</td>\n",
       "    </tr>\n",
       "    <tr>\n",
       "      <th>249</th>\n",
       "      <td>research</td>\n",
       "      <td>183</td>\n",
       "    </tr>\n",
       "    <tr>\n",
       "      <th>98</th>\n",
       "      <td>manage</td>\n",
       "      <td>182</td>\n",
       "    </tr>\n",
       "    <tr>\n",
       "      <th>166</th>\n",
       "      <td>build</td>\n",
       "      <td>180</td>\n",
       "    </tr>\n",
       "    <tr>\n",
       "      <th>71</th>\n",
       "      <td>reports</td>\n",
       "      <td>178</td>\n",
       "    </tr>\n",
       "    <tr>\n",
       "      <th>202</th>\n",
       "      <td>reporting</td>\n",
       "      <td>178</td>\n",
       "    </tr>\n",
       "    <tr>\n",
       "      <th>268</th>\n",
       "      <td>solutions</td>\n",
       "      <td>171</td>\n",
       "    </tr>\n",
       "    <tr>\n",
       "      <th>134</th>\n",
       "      <td>opportunity</td>\n",
       "      <td>171</td>\n",
       "    </tr>\n",
       "  </tbody>\n",
       "</table>\n",
       "</div>"
      ],
      "text/plain": [
       "        Key_Word  Count\n",
       "56    experience   1345\n",
       "113       degree    655\n",
       "61       develop    348\n",
       "78           exp    320\n",
       "73       provide    267\n",
       "122         team    267\n",
       "108      analyze    242\n",
       "95        create    204\n",
       "50      identify    183\n",
       "249     research    183\n",
       "98        manage    182\n",
       "166        build    180\n",
       "71       reports    178\n",
       "202    reporting    178\n",
       "268    solutions    171\n",
       "134  opportunity    171"
      ]
     },
     "execution_count": 40,
     "metadata": {},
     "output_type": "execute_result"
    }
   ],
   "source": [
    "top10_insight_wordsDF = ordered_kw_df[ordered_kw_df.Key_Word.isin([\"experience\",\"exp\",\"degree\",\"develop\", \"provide\", \"team\", \"analyze\", \"create\", \"identify\", \"research\", \"manage\", \"build\", \"reports\", \"reporting\", \"opportunity\", \"solutions\"])]\n",
    "\n",
    "top10_insight_wordsDF"
   ]
  },
  {
   "cell_type": "code",
   "execution_count": null,
   "metadata": {},
   "outputs": [],
   "source": []
  },
  {
   "cell_type": "code",
   "execution_count": null,
   "metadata": {},
   "outputs": [],
   "source": [
    "# Plotting \n",
    "\n",
    "fig = plt.figure(figsize = (15, 5))\n",
    " \n",
    "job_KW_bar = sns.barplot(x=\"Key_Word\", y=\"Count\", data= top10_insight_wordsDF)\n",
    "plt.xticks(rotation=70, size='16')\n",
    "plt.title('Key_word Frequency')\n",
    "plt.show()"
   ]
  },
  {
   "cell_type": "code",
   "execution_count": null,
   "metadata": {},
   "outputs": [],
   "source": []
  },
  {
   "cell_type": "code",
   "execution_count": null,
   "metadata": {},
   "outputs": [],
   "source": [
    "# Making a copy to work \n",
    "word_count_working = kw_count_df.copy()"
   ]
  },
  {
   "cell_type": "code",
   "execution_count": null,
   "metadata": {},
   "outputs": [],
   "source": [
    "#word_count_working.to_excel('we_ce.xlsx')"
   ]
  },
  {
   "cell_type": "markdown",
   "metadata": {},
   "source": [
    "# THIS SECTION IS ALL ABOUT CHECKING WHAT tense (present | future) THE POSTINGS WERE WRITTEN IN  "
   ]
  },
  {
   "cell_type": "code",
   "execution_count": null,
   "metadata": {},
   "outputs": [],
   "source": [
    "# Creating copy for next section \n",
    "\n",
    "working3_df.head()"
   ]
  },
  {
   "cell_type": "code",
   "execution_count": 42,
   "metadata": {},
   "outputs": [
    {
     "data": {
      "text/plain": [
       "621"
      ]
     },
     "execution_count": 42,
     "metadata": {},
     "output_type": "execute_result"
    }
   ],
   "source": [
    "# is & will list \n",
    "\n",
    "iswill_list = []\n",
    "\n",
    "for index, i in enumerate(working3_df['Quals']):\n",
    "    if re.findall('(will|Will|WILL)', i):\n",
    "        if re.findall('(is|Is|IS)', i):\n",
    "            iswill_list.append(index)\n",
    "\n",
    "len(iswill_list)"
   ]
  },
  {
   "cell_type": "code",
   "execution_count": 43,
   "metadata": {},
   "outputs": [
    {
     "data": {
      "text/plain": [
       "413"
      ]
     },
     "execution_count": 43,
     "metadata": {},
     "output_type": "execute_result"
    }
   ],
   "source": [
    "# Will no IS list \n",
    "\n",
    "onlywill_list = []\n",
    "\n",
    "\n",
    "for index, i in enumerate(working3_df['Quals']):\n",
    "    if re.findall('(is|Is|IS)', i):\n",
    "        continue\n",
    "    if re.findall('(will|Will|WILL)', i):\n",
    "        onlywill_list.append(index)\n",
    "\n",
    "len(onlywill_list)"
   ]
  },
  {
   "cell_type": "code",
   "execution_count": 44,
   "metadata": {},
   "outputs": [
    {
     "data": {
      "text/plain": [
       "556"
      ]
     },
     "execution_count": 44,
     "metadata": {},
     "output_type": "execute_result"
    }
   ],
   "source": [
    "# Is no Will list \n",
    "\n",
    "onlyis_list = []\n",
    "\n",
    "\n",
    "for index, i in enumerate(working3_df['Quals']):\n",
    "    if re.findall('(will|Will|WILL)', i):\n",
    "        continue\n",
    "    if re.findall('(is|Is|IS)', i): \n",
    "        onlyis_list.append(index)\n",
    "\n",
    "len(onlyis_list)"
   ]
  },
  {
   "cell_type": "code",
   "execution_count": 45,
   "metadata": {},
   "outputs": [
    {
     "data": {
      "text/plain": [
       "340"
      ]
     },
     "execution_count": 45,
     "metadata": {},
     "output_type": "execute_result"
    }
   ],
   "source": [
    "# Neither list  \n",
    "\n",
    "neither_list = []\n",
    "\n",
    "\n",
    "for index, i in enumerate(working3_df['Quals']):\n",
    "    if re.findall('(will|Will|WILL)', i):\n",
    "        continue\n",
    "    if re.findall('(is|Is|IS)', i): \n",
    "        continue\n",
    "    neither_list.append(index)\n",
    "\n",
    "len(neither_list)"
   ]
  },
  {
   "cell_type": "markdown",
   "metadata": {},
   "source": [
    "### BREAKING DOWN da, ba, fa "
   ]
  },
  {
   "cell_type": "markdown",
   "metadata": {},
   "source": [
    "#### DATA ANALYST "
   ]
  },
  {
   "cell_type": "code",
   "execution_count": 46,
   "metadata": {},
   "outputs": [
    {
     "data": {
      "text/html": [
       "<div>\n",
       "<style scoped>\n",
       "    .dataframe tbody tr th:only-of-type {\n",
       "        vertical-align: middle;\n",
       "    }\n",
       "\n",
       "    .dataframe tbody tr th {\n",
       "        vertical-align: top;\n",
       "    }\n",
       "\n",
       "    .dataframe thead th {\n",
       "        text-align: right;\n",
       "    }\n",
       "</style>\n",
       "<table border=\"1\" class=\"dataframe\">\n",
       "  <thead>\n",
       "    <tr style=\"text-align: right;\">\n",
       "      <th></th>\n",
       "      <th>Type</th>\n",
       "      <th>Job Title</th>\n",
       "      <th>Count</th>\n",
       "    </tr>\n",
       "  </thead>\n",
       "  <tbody>\n",
       "    <tr>\n",
       "      <th>1</th>\n",
       "      <td>Full-Time, 100% Remote Job</td>\n",
       "      <td>Data Analyst</td>\n",
       "      <td>10</td>\n",
       "    </tr>\n",
       "    <tr>\n",
       "      <th>4</th>\n",
       "      <td>Full-Time, Option for Remote Job</td>\n",
       "      <td>Data Analyst</td>\n",
       "      <td>10</td>\n",
       "    </tr>\n",
       "    <tr>\n",
       "      <th>6</th>\n",
       "      <td>Full-Time, Remote - During Pandemic Job</td>\n",
       "      <td>Data Analyst</td>\n",
       "      <td>7</td>\n",
       "    </tr>\n",
       "    <tr>\n",
       "      <th>0</th>\n",
       "      <td>100% Remote Job</td>\n",
       "      <td>Data Analyst</td>\n",
       "      <td>2</td>\n",
       "    </tr>\n",
       "    <tr>\n",
       "      <th>8</th>\n",
       "      <td>Part-Time, 100% Remote Job</td>\n",
       "      <td>Data Analyst</td>\n",
       "      <td>2</td>\n",
       "    </tr>\n",
       "    <tr>\n",
       "      <th>2</th>\n",
       "      <td>Full-Time, Flexible Schedule Job</td>\n",
       "      <td>Data Analyst</td>\n",
       "      <td>1</td>\n",
       "    </tr>\n",
       "    <tr>\n",
       "      <th>3</th>\n",
       "      <td>Full-Time, Freelance Job</td>\n",
       "      <td>Data Analyst</td>\n",
       "      <td>1</td>\n",
       "    </tr>\n",
       "    <tr>\n",
       "      <th>5</th>\n",
       "      <td>Full-Time, Partial Remote Job</td>\n",
       "      <td>Data Analyst</td>\n",
       "      <td>1</td>\n",
       "    </tr>\n",
       "    <tr>\n",
       "      <th>7</th>\n",
       "      <td>Full-Time, Temporary Job</td>\n",
       "      <td>Data Analyst</td>\n",
       "      <td>1</td>\n",
       "    </tr>\n",
       "  </tbody>\n",
       "</table>\n",
       "</div>"
      ],
      "text/plain": [
       "                                      Type     Job Title  Count\n",
       "1               Full-Time, 100% Remote Job  Data Analyst     10\n",
       "4         Full-Time, Option for Remote Job  Data Analyst     10\n",
       "6  Full-Time, Remote - During Pandemic Job  Data Analyst      7\n",
       "0                          100% Remote Job  Data Analyst      2\n",
       "8               Part-Time, 100% Remote Job  Data Analyst      2\n",
       "2         Full-Time, Flexible Schedule Job  Data Analyst      1\n",
       "3                 Full-Time, Freelance Job  Data Analyst      1\n",
       "5            Full-Time, Partial Remote Job  Data Analyst      1\n",
       "7                 Full-Time, Temporary Job  Data Analyst      1"
      ]
     },
     "execution_count": 46,
     "metadata": {},
     "output_type": "execute_result"
    }
   ],
   "source": [
    "# Making Copy for this \n",
    "working4_df = working2_df.copy()\n",
    "\n",
    "# Creating DF for Data Analyst jobs only \n",
    "only_data_analyst = working4_df[working4_df['Job Title'].isin(['Data Analyst'])]\n",
    "\n",
    "only_data_analyst_copy = only_data_analyst.copy()\n",
    "\n",
    "da_type_count_df = only_data_analyst_copy.groupby(['Type', 'Job Title']).count().reset_index()\n",
    "\n",
    "da_type_count_df['Count'] = da_type_count_df['Quals']\n",
    "\n",
    "da_type_count_df[['Type','Job Title', 'Count']].sort_values(by = 'Count', ascending= False)"
   ]
  },
  {
   "cell_type": "code",
   "execution_count": 48,
   "metadata": {},
   "outputs": [
    {
     "name": "stdout",
     "output_type": "stream",
     "text": [
      "10 9 13 3\n"
     ]
    }
   ],
   "source": [
    "# Making a copy for work \n",
    "only_da = only_data_analyst.copy()\n",
    "\n",
    "# Making og index its own column so it doesnt get lost \n",
    "only_da['og_index'] = only_da.index\n",
    "\n",
    "da_will_only = []\n",
    "da_is_only = []\n",
    "da_both = []\n",
    "da_neither = []\n",
    "\n",
    "for i in only_da['og_index']:\n",
    "    if i in onlywill_list:\n",
    "        da_will_only.append(i)\n",
    "    elif i in onlyis_list:\n",
    "        da_is_only.append(i)\n",
    "    elif i in iswill_list:\n",
    "        da_both.append(i)\n",
    "    else:\n",
    "        da_neither.append(i)\n",
    "    \n",
    "\n",
    "print(len(da_will_only),len(da_is_only),len(da_both),len(da_neither))"
   ]
  },
  {
   "cell_type": "markdown",
   "metadata": {},
   "source": [
    "#### BUSINESS ANALYST"
   ]
  },
  {
   "cell_type": "code",
   "execution_count": 47,
   "metadata": {},
   "outputs": [
    {
     "data": {
      "text/html": [
       "<div>\n",
       "<style scoped>\n",
       "    .dataframe tbody tr th:only-of-type {\n",
       "        vertical-align: middle;\n",
       "    }\n",
       "\n",
       "    .dataframe tbody tr th {\n",
       "        vertical-align: top;\n",
       "    }\n",
       "\n",
       "    .dataframe thead th {\n",
       "        text-align: right;\n",
       "    }\n",
       "</style>\n",
       "<table border=\"1\" class=\"dataframe\">\n",
       "  <thead>\n",
       "    <tr style=\"text-align: right;\">\n",
       "      <th></th>\n",
       "      <th>Type</th>\n",
       "      <th>Job Title</th>\n",
       "      <th>Count</th>\n",
       "    </tr>\n",
       "  </thead>\n",
       "  <tbody>\n",
       "    <tr>\n",
       "      <th>2</th>\n",
       "      <td>Full-Time, 100% Remote Job</td>\n",
       "      <td>Business Analyst</td>\n",
       "      <td>12</td>\n",
       "    </tr>\n",
       "    <tr>\n",
       "      <th>5</th>\n",
       "      <td>Full-Time, Option for Remote Job</td>\n",
       "      <td>Business Analyst</td>\n",
       "      <td>8</td>\n",
       "    </tr>\n",
       "    <tr>\n",
       "      <th>7</th>\n",
       "      <td>Full-Time, Remote - During Pandemic Job</td>\n",
       "      <td>Business Analyst</td>\n",
       "      <td>6</td>\n",
       "    </tr>\n",
       "    <tr>\n",
       "      <th>1</th>\n",
       "      <td>Remote - During Pandemic Job</td>\n",
       "      <td>Business Analyst</td>\n",
       "      <td>2</td>\n",
       "    </tr>\n",
       "    <tr>\n",
       "      <th>6</th>\n",
       "      <td>Full-Time, Partial Remote Job</td>\n",
       "      <td>Business Analyst</td>\n",
       "      <td>2</td>\n",
       "    </tr>\n",
       "    <tr>\n",
       "      <th>0</th>\n",
       "      <td>100% Remote Job</td>\n",
       "      <td>Business Analyst</td>\n",
       "      <td>1</td>\n",
       "    </tr>\n",
       "    <tr>\n",
       "      <th>3</th>\n",
       "      <td>Full-Time, Flexible Schedule Job</td>\n",
       "      <td>Business Analyst</td>\n",
       "      <td>1</td>\n",
       "    </tr>\n",
       "    <tr>\n",
       "      <th>4</th>\n",
       "      <td>Full-Time, Freelance Job</td>\n",
       "      <td>Business Analyst</td>\n",
       "      <td>1</td>\n",
       "    </tr>\n",
       "    <tr>\n",
       "      <th>8</th>\n",
       "      <td>Full-Time, Temporary Job</td>\n",
       "      <td>Business Analyst</td>\n",
       "      <td>1</td>\n",
       "    </tr>\n",
       "    <tr>\n",
       "      <th>9</th>\n",
       "      <td>Part-Time, 100% Remote Job</td>\n",
       "      <td>Business Analyst</td>\n",
       "      <td>1</td>\n",
       "    </tr>\n",
       "  </tbody>\n",
       "</table>\n",
       "</div>"
      ],
      "text/plain": [
       "                                      Type         Job Title  Count\n",
       "2               Full-Time, 100% Remote Job  Business Analyst     12\n",
       "5         Full-Time, Option for Remote Job  Business Analyst      8\n",
       "7  Full-Time, Remote - During Pandemic Job  Business Analyst      6\n",
       "1             Remote - During Pandemic Job  Business Analyst      2\n",
       "6            Full-Time, Partial Remote Job  Business Analyst      2\n",
       "0                          100% Remote Job  Business Analyst      1\n",
       "3         Full-Time, Flexible Schedule Job  Business Analyst      1\n",
       "4                 Full-Time, Freelance Job  Business Analyst      1\n",
       "8                 Full-Time, Temporary Job  Business Analyst      1\n",
       "9               Part-Time, 100% Remote Job  Business Analyst      1"
      ]
     },
     "execution_count": 47,
     "metadata": {},
     "output_type": "execute_result"
    }
   ],
   "source": [
    "# Creating DF for Business Analyst jobs only \n",
    "only_biz_analyst = working4_df[working4_df['Job Title'].isin(['Business Analyst'])]\n",
    "\n",
    "only_biz_analyst\n",
    "\n",
    "only_biz_analyst_copy = only_biz_analyst.copy()\n",
    "\n",
    "biz_type_count_df = only_biz_analyst_copy.groupby(['Type', 'Job Title']).count().reset_index()\n",
    "\n",
    "biz_type_count_df['Count'] = biz_type_count_df['Quals']\n",
    "\n",
    "biz_type_count_df[['Type','Job Title', 'Count']].sort_values(by = 'Count', ascending= False)"
   ]
  },
  {
   "cell_type": "code",
   "execution_count": 49,
   "metadata": {},
   "outputs": [
    {
     "name": "stdout",
     "output_type": "stream",
     "text": [
      "8 12 10 5\n"
     ]
    }
   ],
   "source": [
    "# Making a copy for work \n",
    "only_biz = only_biz_analyst.copy()\n",
    "\n",
    "# Making og index its own column so it doesnt get lost \n",
    "only_biz['og_index'] = only_biz.index\n",
    "\n",
    "biz_will_only = []\n",
    "biz_is_only = []\n",
    "biz_both = []\n",
    "biz_neither = []\n",
    "\n",
    "for i in only_biz['og_index']:\n",
    "    if i in onlywill_list:\n",
    "        biz_will_only.append(i)\n",
    "    elif i in onlyis_list:\n",
    "        biz_is_only.append(i)\n",
    "    elif i in iswill_list:\n",
    "        biz_both.append(i)\n",
    "    else:\n",
    "        biz_neither.append(i)\n",
    "    \n",
    "\n",
    "print(len(biz_will_only),len(biz_is_only),len(biz_both),len(biz_neither))"
   ]
  },
  {
   "cell_type": "markdown",
   "metadata": {},
   "source": [
    "### FINANCIAL ANALYST"
   ]
  },
  {
   "cell_type": "code",
   "execution_count": 50,
   "metadata": {},
   "outputs": [
    {
     "data": {
      "text/html": [
       "<div>\n",
       "<style scoped>\n",
       "    .dataframe tbody tr th:only-of-type {\n",
       "        vertical-align: middle;\n",
       "    }\n",
       "\n",
       "    .dataframe tbody tr th {\n",
       "        vertical-align: top;\n",
       "    }\n",
       "\n",
       "    .dataframe thead th {\n",
       "        text-align: right;\n",
       "    }\n",
       "</style>\n",
       "<table border=\"1\" class=\"dataframe\">\n",
       "  <thead>\n",
       "    <tr style=\"text-align: right;\">\n",
       "      <th></th>\n",
       "      <th>Type</th>\n",
       "      <th>Job Title</th>\n",
       "      <th>Count</th>\n",
       "    </tr>\n",
       "  </thead>\n",
       "  <tbody>\n",
       "    <tr>\n",
       "      <th>2</th>\n",
       "      <td>Full-Time, 100% Remote Job</td>\n",
       "      <td>Financial Analyst</td>\n",
       "      <td>12</td>\n",
       "    </tr>\n",
       "    <tr>\n",
       "      <th>6</th>\n",
       "      <td>Full-Time, Remote - During Pandemic Job</td>\n",
       "      <td>Financial Analyst</td>\n",
       "      <td>5</td>\n",
       "    </tr>\n",
       "    <tr>\n",
       "      <th>4</th>\n",
       "      <td>Full-Time, Option for Remote Job</td>\n",
       "      <td>Financial Analyst</td>\n",
       "      <td>4</td>\n",
       "    </tr>\n",
       "    <tr>\n",
       "      <th>0</th>\n",
       "      <td>100% Remote Job</td>\n",
       "      <td>Financial Analyst</td>\n",
       "      <td>2</td>\n",
       "    </tr>\n",
       "    <tr>\n",
       "      <th>1</th>\n",
       "      <td>Freelance Job</td>\n",
       "      <td>Financial Analyst</td>\n",
       "      <td>2</td>\n",
       "    </tr>\n",
       "    <tr>\n",
       "      <th>3</th>\n",
       "      <td>Full-Time, Freelance Job</td>\n",
       "      <td>Financial Analyst</td>\n",
       "      <td>1</td>\n",
       "    </tr>\n",
       "    <tr>\n",
       "      <th>5</th>\n",
       "      <td>Full-Time, Partial Remote Job</td>\n",
       "      <td>Financial Analyst</td>\n",
       "      <td>1</td>\n",
       "    </tr>\n",
       "    <tr>\n",
       "      <th>7</th>\n",
       "      <td>Part-Time, Option for Remote Job</td>\n",
       "      <td>Financial Analyst</td>\n",
       "      <td>1</td>\n",
       "    </tr>\n",
       "  </tbody>\n",
       "</table>\n",
       "</div>"
      ],
      "text/plain": [
       "                                      Type          Job Title  Count\n",
       "2               Full-Time, 100% Remote Job  Financial Analyst     12\n",
       "6  Full-Time, Remote - During Pandemic Job  Financial Analyst      5\n",
       "4         Full-Time, Option for Remote Job  Financial Analyst      4\n",
       "0                          100% Remote Job  Financial Analyst      2\n",
       "1                            Freelance Job  Financial Analyst      2\n",
       "3                 Full-Time, Freelance Job  Financial Analyst      1\n",
       "5            Full-Time, Partial Remote Job  Financial Analyst      1\n",
       "7         Part-Time, Option for Remote Job  Financial Analyst      1"
      ]
     },
     "execution_count": 50,
     "metadata": {},
     "output_type": "execute_result"
    }
   ],
   "source": [
    "# Creating DF for Financial Analyst jobs only \n",
    "only_fin_analyst = working4_df[working4_df['Job Title'].isin(['Financial Analyst'])]\n",
    "\n",
    "only_fin_analyst\n",
    "\n",
    "only_fin_analyst_copy = only_fin_analyst.copy()\n",
    "\n",
    "fin_type_count_df = only_fin_analyst_copy.groupby(['Type', 'Job Title']).count().reset_index()\n",
    "\n",
    "fin_type_count_df['Count'] = fin_type_count_df['Quals']\n",
    "\n",
    "fin_type_count_df[['Type','Job Title', 'Count']].sort_values(by = 'Count', ascending= False)"
   ]
  },
  {
   "cell_type": "code",
   "execution_count": 51,
   "metadata": {},
   "outputs": [
    {
     "name": "stdout",
     "output_type": "stream",
     "text": [
      "6 10 10 2\n"
     ]
    }
   ],
   "source": [
    "# Making a copy for work \n",
    "only_fin = only_fin_analyst.copy()\n",
    "\n",
    "# Making og index its own column so it doesnt get lost \n",
    "only_fin['og_index'] = only_fin.index\n",
    "\n",
    "fin_will_only = []\n",
    "fin_is_only = []\n",
    "fin_both = []\n",
    "fin_neither = []\n",
    "\n",
    "for i in only_fin['og_index']:\n",
    "    if i in onlywill_list:\n",
    "        fin_will_only.append(i)\n",
    "    elif i in onlyis_list:\n",
    "        fin_is_only.append(i)\n",
    "    elif i in iswill_list:\n",
    "        fin_both.append(i)\n",
    "    else:\n",
    "        fin_neither.append(i)\n",
    "    \n",
    "\n",
    "print(len(fin_will_only),len(fin_is_only),len(fin_both),len(fin_neither))"
   ]
  },
  {
   "cell_type": "code",
   "execution_count": null,
   "metadata": {},
   "outputs": [],
   "source": [
    "# def concatenate_list_data(list):\n",
    "#     rex = ''\n",
    "#     for ele in list:\n",
    "#         rex += str(ele + ' ')\n",
    "#     return rex\n",
    "\n",
    "# print(concatenate_list_data(asa))"
   ]
  },
  {
   "cell_type": "code",
   "execution_count": null,
   "metadata": {},
   "outputs": [],
   "source": []
  },
  {
   "cell_type": "code",
   "execution_count": null,
   "metadata": {},
   "outputs": [],
   "source": []
  },
  {
   "cell_type": "code",
   "execution_count": null,
   "metadata": {},
   "outputs": [],
   "source": []
  },
  {
   "cell_type": "code",
   "execution_count": null,
   "metadata": {},
   "outputs": [],
   "source": []
  },
  {
   "cell_type": "code",
   "execution_count": null,
   "metadata": {},
   "outputs": [],
   "source": []
  },
  {
   "cell_type": "code",
   "execution_count": null,
   "metadata": {},
   "outputs": [],
   "source": []
  },
  {
   "cell_type": "code",
   "execution_count": null,
   "metadata": {},
   "outputs": [],
   "source": []
  },
  {
   "cell_type": "code",
   "execution_count": null,
   "metadata": {},
   "outputs": [],
   "source": []
  },
  {
   "cell_type": "code",
   "execution_count": null,
   "metadata": {},
   "outputs": [],
   "source": []
  },
  {
   "cell_type": "code",
   "execution_count": null,
   "metadata": {},
   "outputs": [],
   "source": []
  },
  {
   "cell_type": "code",
   "execution_count": null,
   "metadata": {},
   "outputs": [],
   "source": []
  },
  {
   "cell_type": "code",
   "execution_count": null,
   "metadata": {},
   "outputs": [],
   "source": []
  },
  {
   "cell_type": "code",
   "execution_count": null,
   "metadata": {},
   "outputs": [],
   "source": []
  }
 ],
 "metadata": {
  "kernelspec": {
   "display_name": "Python 3",
   "language": "python",
   "name": "python3"
  },
  "language_info": {
   "codemirror_mode": {
    "name": "ipython",
    "version": 3
   },
   "file_extension": ".py",
   "mimetype": "text/x-python",
   "name": "python",
   "nbconvert_exporter": "python",
   "pygments_lexer": "ipython3",
   "version": "3.8.5"
  }
 },
 "nbformat": 4,
 "nbformat_minor": 4
}
